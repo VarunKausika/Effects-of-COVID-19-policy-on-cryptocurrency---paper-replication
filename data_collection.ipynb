{
 "cells": [
  {
   "cell_type": "code",
   "execution_count": 2,
   "metadata": {},
   "outputs": [
    {
     "name": "stdout",
     "output_type": "stream",
     "text": [
      "Connected to the CoinBase Pro API.\n",
      "Extended Output is False, returning reduced dataset.\n"
     ]
    },
    {
     "data": {
      "text/html": [
       "<div>\n",
       "<style scoped>\n",
       "    .dataframe tbody tr th:only-of-type {\n",
       "        vertical-align: middle;\n",
       "    }\n",
       "\n",
       "    .dataframe tbody tr th {\n",
       "        vertical-align: top;\n",
       "    }\n",
       "\n",
       "    .dataframe thead th {\n",
       "        text-align: right;\n",
       "    }\n",
       "</style>\n",
       "<table border=\"1\" class=\"dataframe\">\n",
       "  <thead>\n",
       "    <tr style=\"text-align: right;\">\n",
       "      <th></th>\n",
       "      <th>id</th>\n",
       "      <th>display_name</th>\n",
       "      <th>fx_stablecoin</th>\n",
       "      <th>max_slippage_percentage</th>\n",
       "      <th>status</th>\n",
       "    </tr>\n",
       "  </thead>\n",
       "  <tbody>\n",
       "    <tr>\n",
       "      <th>0</th>\n",
       "      <td>LQTY-EUR</td>\n",
       "      <td>LQTY/EUR</td>\n",
       "      <td>False</td>\n",
       "      <td>0.03000000</td>\n",
       "      <td>online</td>\n",
       "    </tr>\n",
       "    <tr>\n",
       "      <th>1</th>\n",
       "      <td>XTZ-USD</td>\n",
       "      <td>XTZ/USD</td>\n",
       "      <td>False</td>\n",
       "      <td>0.03000000</td>\n",
       "      <td>online</td>\n",
       "    </tr>\n",
       "    <tr>\n",
       "      <th>2</th>\n",
       "      <td>SUPER-USD</td>\n",
       "      <td>SUPER/USD</td>\n",
       "      <td>False</td>\n",
       "      <td>0.03000000</td>\n",
       "      <td>online</td>\n",
       "    </tr>\n",
       "    <tr>\n",
       "      <th>3</th>\n",
       "      <td>CBETH-USD</td>\n",
       "      <td>cbETH/USD</td>\n",
       "      <td>False</td>\n",
       "      <td>0.03000000</td>\n",
       "      <td>online</td>\n",
       "    </tr>\n",
       "    <tr>\n",
       "      <th>4</th>\n",
       "      <td>KRL-USDT</td>\n",
       "      <td>KRL/USDT</td>\n",
       "      <td>False</td>\n",
       "      <td>0.05000000</td>\n",
       "      <td>online</td>\n",
       "    </tr>\n",
       "    <tr>\n",
       "      <th>...</th>\n",
       "      <td>...</td>\n",
       "      <td>...</td>\n",
       "      <td>...</td>\n",
       "      <td>...</td>\n",
       "      <td>...</td>\n",
       "    </tr>\n",
       "    <tr>\n",
       "      <th>581</th>\n",
       "      <td>OMG-EUR</td>\n",
       "      <td>OMG/EUR</td>\n",
       "      <td>False</td>\n",
       "      <td>0.03000000</td>\n",
       "      <td>online</td>\n",
       "    </tr>\n",
       "    <tr>\n",
       "      <th>582</th>\n",
       "      <td>NU-BTC</td>\n",
       "      <td>NU/BTC</td>\n",
       "      <td>False</td>\n",
       "      <td>0.03000000</td>\n",
       "      <td>delisted</td>\n",
       "    </tr>\n",
       "    <tr>\n",
       "      <th>583</th>\n",
       "      <td>LQTY-USD</td>\n",
       "      <td>LQTY/USD</td>\n",
       "      <td>False</td>\n",
       "      <td>0.03000000</td>\n",
       "      <td>online</td>\n",
       "    </tr>\n",
       "    <tr>\n",
       "      <th>584</th>\n",
       "      <td>CTX-USDT</td>\n",
       "      <td>CTX/USDT</td>\n",
       "      <td>False</td>\n",
       "      <td>0.05000000</td>\n",
       "      <td>online</td>\n",
       "    </tr>\n",
       "    <tr>\n",
       "      <th>585</th>\n",
       "      <td>STORJ-USD</td>\n",
       "      <td>STORJ/USD</td>\n",
       "      <td>False</td>\n",
       "      <td>0.03000000</td>\n",
       "      <td>online</td>\n",
       "    </tr>\n",
       "  </tbody>\n",
       "</table>\n",
       "<p>586 rows × 5 columns</p>\n",
       "</div>"
      ],
      "text/plain": [
       "            id display_name  fx_stablecoin max_slippage_percentage    status\n",
       "0     LQTY-EUR     LQTY/EUR          False              0.03000000    online\n",
       "1      XTZ-USD      XTZ/USD          False              0.03000000    online\n",
       "2    SUPER-USD    SUPER/USD          False              0.03000000    online\n",
       "3    CBETH-USD    cbETH/USD          False              0.03000000    online\n",
       "4     KRL-USDT     KRL/USDT          False              0.05000000    online\n",
       "..         ...          ...            ...                     ...       ...\n",
       "581    OMG-EUR      OMG/EUR          False              0.03000000    online\n",
       "582     NU-BTC       NU/BTC          False              0.03000000  delisted\n",
       "583   LQTY-USD     LQTY/USD          False              0.03000000    online\n",
       "584   CTX-USDT     CTX/USDT          False              0.05000000    online\n",
       "585  STORJ-USD    STORJ/USD          False              0.03000000    online\n",
       "\n",
       "[586 rows x 5 columns]"
      ]
     },
     "execution_count": 2,
     "metadata": {},
     "output_type": "execute_result"
    }
   ],
   "source": [
    "from Historic_Crypto import HistoricalData\n",
    "from Historic_Crypto import Cryptocurrencies\n",
    "from Historic_Crypto import HistoricalData\n",
    "import pandas as pd\n",
    "\n",
    "Cryptocurrencies().find_crypto_pairs()"
   ]
  },
  {
   "cell_type": "code",
   "execution_count": 27,
   "metadata": {},
   "outputs": [
    {
     "name": "stdout",
     "output_type": "stream",
     "text": [
      "Provisional Start: 2020-01-01T00:00:00\n",
      "Provisional End: 2020-10-27T00:00:00\n",
      "Provisional Start: 2020-10-27T00:00:00\n",
      "Provisional End: 2021-08-23T00:00:00\n"
     ]
    },
    {
     "name": "stderr",
     "output_type": "stream",
     "text": [
      "c:\\Users\\varun\\anaconda3\\envs\\tf2.6\\lib\\site-packages\\Historic_Crypto\\HistoricalData.py:176: FutureWarning: The frame.append method is deprecated and will be removed from pandas in a future version. Use pandas.concat instead.\n",
      "  data = data.append(dataset)\n"
     ]
    },
    {
     "name": "stdout",
     "output_type": "stream",
     "text": [
      "Provisional Start: 2020-01-01T00:00:00\n",
      "Provisional End: 2020-10-27T00:00:00\n"
     ]
    },
    {
     "name": "stderr",
     "output_type": "stream",
     "text": [
      "c:\\Users\\varun\\anaconda3\\envs\\tf2.6\\lib\\site-packages\\Historic_Crypto\\HistoricalData.py:176: FutureWarning: The frame.append method is deprecated and will be removed from pandas in a future version. Use pandas.concat instead.\n",
      "  data = data.append(dataset)\n"
     ]
    },
    {
     "name": "stdout",
     "output_type": "stream",
     "text": [
      "Provisional Start: 2020-10-27T00:00:00\n",
      "Provisional End: 2021-08-23T00:00:00\n",
      "Provisional Start: 2020-01-01T00:00:00\n",
      "Provisional End: 2020-10-27T00:00:00\n"
     ]
    },
    {
     "name": "stderr",
     "output_type": "stream",
     "text": [
      "c:\\Users\\varun\\anaconda3\\envs\\tf2.6\\lib\\site-packages\\Historic_Crypto\\HistoricalData.py:176: FutureWarning: The frame.append method is deprecated and will be removed from pandas in a future version. Use pandas.concat instead.\n",
      "  data = data.append(dataset)\n"
     ]
    },
    {
     "name": "stdout",
     "output_type": "stream",
     "text": [
      "Provisional Start: 2020-10-27T00:00:00\n",
      "Provisional End: 2021-08-23T00:00:00\n",
      "Provisional Start: 2020-01-01T00:00:00\n",
      "Provisional End: 2020-10-27T00:00:00\n",
      "Provisional Start: 2020-10-27T00:00:00\n",
      "Provisional End: 2021-08-23T00:00:00\n"
     ]
    },
    {
     "name": "stderr",
     "output_type": "stream",
     "text": [
      "c:\\Users\\varun\\anaconda3\\envs\\tf2.6\\lib\\site-packages\\Historic_Crypto\\HistoricalData.py:176: FutureWarning: The frame.append method is deprecated and will be removed from pandas in a future version. Use pandas.concat instead.\n",
      "  data = data.append(dataset)\n"
     ]
    },
    {
     "name": "stdout",
     "output_type": "stream",
     "text": [
      "Provisional Start: 2020-01-01T00:00:00\n",
      "Provisional End: 2020-10-27T00:00:00\n"
     ]
    },
    {
     "name": "stderr",
     "output_type": "stream",
     "text": [
      "c:\\Users\\varun\\anaconda3\\envs\\tf2.6\\lib\\site-packages\\Historic_Crypto\\HistoricalData.py:176: FutureWarning: The frame.append method is deprecated and will be removed from pandas in a future version. Use pandas.concat instead.\n",
      "  data = data.append(dataset)\n"
     ]
    },
    {
     "name": "stdout",
     "output_type": "stream",
     "text": [
      "Provisional Start: 2020-10-27T00:00:00\n",
      "Provisional End: 2021-08-23T00:00:00\n",
      "XMR is not working\n",
      "XEM is not working\n",
      "USDT is not working\n"
     ]
    }
   ],
   "source": [
    "ticks = ['BTC-USD', 'LTC-USD', 'ETH-USD', 'XRP-USD', 'DASH-USD', 'XMR', 'XEM', 'USDT']\n",
    "for tick in ticks:\n",
    "    try:\n",
    "        df = HistoricalData(\n",
    "            ticker=tick, \n",
    "            granularity=86400, \n",
    "            start_date='2020-01-01-00-00', \n",
    "            end_date='2021-03-05-00-00',\n",
    "            verbose=False\n",
    "        ).retrieve_data()\n",
    "        df.to_csv(f'{tick}.csv')\n",
    "    except:\n",
    "        print(f'{tick} is not working')"
   ]
  },
  {
   "cell_type": "code",
   "execution_count": null,
   "metadata": {},
   "outputs": [],
   "source": []
  }
 ],
 "metadata": {
  "kernelspec": {
   "display_name": "Python 3",
   "language": "python",
   "name": "python3"
  },
  "language_info": {
   "codemirror_mode": {
    "name": "ipython",
    "version": 3
   },
   "file_extension": ".py",
   "mimetype": "text/x-python",
   "name": "python",
   "nbconvert_exporter": "python",
   "pygments_lexer": "ipython3",
   "version": "3.10.8"
  },
  "orig_nbformat": 4
 },
 "nbformat": 4,
 "nbformat_minor": 2
}
